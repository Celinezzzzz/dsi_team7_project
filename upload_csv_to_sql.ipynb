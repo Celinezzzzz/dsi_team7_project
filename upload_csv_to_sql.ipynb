{
 "cells": [
  {
   "cell_type": "code",
   "execution_count": null,
   "metadata": {},
   "outputs": [],
   "source": [
    "import os\n",
    "import pandas as pd\n",
    "from sqlalchemy import create_engine\n",
    "\n",
    "# Function to process CSV files and upload to SQLite\n",
    "def upload_csv_to_sqlite(directory_path, db_name):\n",
    "    # Create SQLite engine\n",
    "    engine = create_engine(f\"sqlite:///{db_name}\")\n",
    "    \n",
    "    # Loop through all files in the directory\n",
    "    for file_name in os.listdir(directory_path):\n",
    "        if file_name.endswith(\".csv\"):  # Only process CSV files\n",
    "            file_path = os.path.join(directory_path, file_name)\n",
    "            \n",
    "            # Read CSV file into a Pandas DataFrame\n",
    "            try:\n",
    "                df = pd.read_csv(file_path)\n",
    "            except Exception as e:\n",
    "                print(f\"Error reading {file_name}: {e}\")\n",
    "                continue\n",
    "            \n",
    "            # Use the file name (without extension) as the table name\n",
    "            table_name = os.path.splitext(file_name)[0]\n",
    "            \n",
    "            # Upload to SQLite\n",
    "            try:\n",
    "                df.to_sql(table_name, con=engine, if_exists=\"replace\", index=False)\n",
    "                print(f\"Uploaded {file_name} to table {table_name}\")\n",
    "            except Exception as e:\n",
    "                print(f\"Error uploading {file_name} to database: {e}\")\n",
    "\n",
    "    print(\"All CSV files processed.\")\n",
    "\n",
    "# Directory containing CSV files\n",
    "directory_path = \"../dsi_team7_project/data/processed/\"\n",
    "\n",
    "# SQLite database name\n",
    "db_name = \"stock_market.db\"\n",
    "\n",
    "# Call the function\n",
    "upload_csv_to_sqlite(directory_path, db_name)\n"
   ]
  }
 ],
 "metadata": {
  "language_info": {
   "name": "python"
  }
 },
 "nbformat": 4,
 "nbformat_minor": 2
}
