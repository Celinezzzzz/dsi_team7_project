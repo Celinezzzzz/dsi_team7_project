{
 "cells": [
  {
   "cell_type": "code",
   "execution_count": null,
   "metadata": {},
   "outputs": [],
   "source": [
    "from sklearn.model_selection import train_test_split\n",
    "from sklearn.linear_model import LogisticRegression\n",
    "from sklearn.ensemble import RandomForestClassifier\n",
    "from sklearn.metrics import accuracy_score\n",
    "from sklearn.preprocessing import StandardScaler\n",
    "import pandas as pd\n",
    "\n",
    "\n",
    "\n",
    "\n",
    "df = pd.read_csv('../data/processed/indexData_processed.csv')\n",
    "\n",
    "# Select features and target\n",
    "features = ['Open', 'High', 'Low', 'Adj Close', 'Volume', 'ma_5', 'ma_10', 'ma_30', 'volatility', 'pct_return']\n",
    "X = df[features]\n",
    "y = df['price_direction']\n",
    "\n",
    "# Handle any potential NaN values that might exist in the dataset\n",
    "X = X.fillna(method='ffill').fillna(method='bfill')\n",
    "\n",
    "# Split data into training and test sets (80% train, 20% test)\n",
    "X_train, X_test, y_train, y_test = train_test_split(X, y, test_size=0.2, random_state=42)\n",
    "\n",
    "# Scale the data for Logistic Regression (which benefits from normalized features)\n",
    "scaler = StandardScaler()\n",
    "X_train_scaled = scaler.fit_transform(X_train)\n",
    "X_test_scaled = scaler.transform(X_test)\n",
    "\n",
    "# Initialize Logistic Regression and Random Forest models\n",
    "log_reg = LogisticRegression(random_state=42)\n",
    "random_forest = RandomForestClassifier(random_state=42)\n",
    "\n",
    "# Train both models\n",
    "log_reg.fit(X_train_scaled, y_train)\n",
    "random_forest.fit(X_train, y_train)\n",
    "\n",
    "# Make predictions\n",
    "log_reg_preds = log_reg.predict(X_test_scaled)\n",
    "rf_preds = random_forest.predict(X_test)\n",
    "\n",
    "# Evaluate both models\n",
    "log_reg_accuracy = accuracy_score(y_test, log_reg_preds)\n",
    "rf_accuracy = accuracy_score(y_test, rf_preds)\n",
    "\n",
    "log_reg_accuracy, rf_accuracy\n"
   ]
  }
 ],
 "metadata": {
  "language_info": {
   "name": "python"
  }
 },
 "nbformat": 4,
 "nbformat_minor": 2
}
